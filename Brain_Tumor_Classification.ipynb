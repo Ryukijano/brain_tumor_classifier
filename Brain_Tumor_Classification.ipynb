{
  "nbformat": 4,
  "nbformat_minor": 0,
  "metadata": {
    "kernelspec": {
      "language": "python",
      "display_name": "Python 3",
      "name": "python3"
    },
    "language_info": {
      "name": "python",
      "version": "3.7.6",
      "mimetype": "text/x-python",
      "codemirror_mode": {
        "name": "ipython",
        "version": 3
      },
      "pygments_lexer": "ipython3",
      "nbconvert_exporter": "python",
      "file_extension": ".py"
    },
    "colab": {
      "name": "Brain_Tumor_Classification.ipynb",
      "provenance": [],
      "collapsed_sections": [],
      "toc_visible": true,
      "include_colab_link": true
    },
    "accelerator": "TPU"
  },
  "cells": [
    {
      "cell_type": "markdown",
      "metadata": {
        "id": "view-in-github",
        "colab_type": "text"
      },
      "source": [
        "<a href=\"https://colab.research.google.com/github/Ryukijano/brain_tumor_classifier/blob/main/Brain_Tumor_Classification.ipynb\" target=\"_parent\"><img src=\"https://colab.research.google.com/assets/colab-badge.svg\" alt=\"Open In Colab\"/></a>"
      ]
    },
    {
      "cell_type": "markdown",
      "metadata": {
        "id": "rTpuX4-S8rJo"
      },
      "source": [
        "# Brain Tumor Classification"
      ]
    },
    {
      "cell_type": "markdown",
      "metadata": {
        "id": "iZucBMvi8Q8x"
      },
      "source": [
        "## Clone the Github Repo to access the Dataset"
      ]
    },
    {
      "cell_type": "code",
      "metadata": {
        "colab": {
          "base_uri": "https://localhost:8080/"
        },
        "id": "ibeGaZg8fkuV",
        "outputId": "f35bc890-1c65-428a-acec-f18b5b4369e0"
      },
      "source": [
        ""
      ],
      "execution_count": 1,
      "outputs": [
        {
          "output_type": "stream",
          "text": [
            "Cloning into 'Coursera-Content'...\n",
            "remote: Enumerating objects: 3049, done.\u001b[K\n",
            "remote: Counting objects: 100% (3049/3049), done.\u001b[K\n",
            "remote: Compressing objects: 100% (3046/3046), done.\u001b[K\n",
            "remote: Total 3049 (delta 1), reused 3043 (delta 0), pack-reused 0\u001b[K\n",
            "Receiving objects: 100% (3049/3049), 79.25 MiB | 33.81 MiB/s, done.\n",
            "Resolving deltas: 100% (1/1), done.\n"
          ],
          "name": "stdout"
        }
      ]
    },
    {
      "cell_type": "markdown",
      "metadata": {
        "id": "Svv2b2VF87Gy"
      },
      "source": [
        "## Import necessary Libraries "
      ]
    },
    {
      "cell_type": "code",
      "metadata": {
        "trusted": true,
        "id": "UKtfbc8autX4"
      },
      "source": [
        "import os\n",
        "import random\n",
        "from tqdm import tqdm\n",
        "import numpy as np\n",
        "import pandas as pd\n",
        "import matplotlib.pyplot as plt\n",
        "import seaborn as sns\n",
        "\n",
        "import cv2\n",
        "import tensorflow as tf\n",
        "from tensorflow.keras.preprocessing.image import load_img,ImageDataGenerator, array_to_img\n",
        "from tensorflow.keras.applications import EfficientNetB1\n",
        "\n",
        "from tensorflow.keras.models import Model\n",
        "from tensorflow.keras.layers import Flatten,Dense,Conv2D,Dropout,GlobalAveragePooling2D\n",
        "\n",
        "from tensorflow.keras.optimizers import Adam\n",
        "from tensorflow.keras.callbacks import ModelCheckpoint,EarlyStopping\n",
        "import imutils    \n"
      ],
      "execution_count": 5,
      "outputs": []
    },
    {
      "cell_type": "markdown",
      "metadata": {
        "id": "zQY0-G-n90nK"
      },
      "source": [
        "## Creating Directories to store Cropped Images"
      ]
    },
    {
      "cell_type": "code",
      "metadata": {
        "id": "uzNB7ARx0IAl",
        "colab": {
          "base_uri": "https://localhost:8080/",
          "height": 231
        },
        "outputId": "d8c874c8-4c69-4a12-89bb-9c6577650ccf"
      },
      "source": [
        "# Create Directory for Training Data\n",
        "os.mkdir(\"/content/Crop-Brain-MRI\")\n",
        "os.mkdir(\"/content/Crop-Brain-MRI/glioma_tumor\")\n",
        "os.mkdir(\"/content/Crop-Brain-MRI/meningioma_tumor\")\n",
        "os.mkdir(\"/content/Crop-Brain-MRI/no_tumor\")\n",
        "os.mkdir(\"/content/Crop-Brain-MRI/pituitary_tumor\")\n"
      ],
      "execution_count": 6,
      "outputs": [
        {
          "output_type": "error",
          "ename": "FileExistsError",
          "evalue": "ignored",
          "traceback": [
            "\u001b[0;31m---------------------------------------------------------------------------\u001b[0m",
            "\u001b[0;31mFileExistsError\u001b[0m                           Traceback (most recent call last)",
            "\u001b[0;32m<ipython-input-6-f84efcd2d39c>\u001b[0m in \u001b[0;36m<module>\u001b[0;34m()\u001b[0m\n\u001b[1;32m      1\u001b[0m \u001b[0;31m# Create Directory for Training Data\u001b[0m\u001b[0;34m\u001b[0m\u001b[0;34m\u001b[0m\u001b[0;34m\u001b[0m\u001b[0m\n\u001b[0;32m----> 2\u001b[0;31m \u001b[0mos\u001b[0m\u001b[0;34m.\u001b[0m\u001b[0mmkdir\u001b[0m\u001b[0;34m(\u001b[0m\u001b[0;34m\"/content/Crop-Brain-MRI\"\u001b[0m\u001b[0;34m)\u001b[0m\u001b[0;34m\u001b[0m\u001b[0;34m\u001b[0m\u001b[0m\n\u001b[0m\u001b[1;32m      3\u001b[0m \u001b[0mos\u001b[0m\u001b[0;34m.\u001b[0m\u001b[0mmkdir\u001b[0m\u001b[0;34m(\u001b[0m\u001b[0;34m\"/content/Crop-Brain-MRI/glioma_tumor\"\u001b[0m\u001b[0;34m)\u001b[0m\u001b[0;34m\u001b[0m\u001b[0;34m\u001b[0m\u001b[0m\n\u001b[1;32m      4\u001b[0m \u001b[0mos\u001b[0m\u001b[0;34m.\u001b[0m\u001b[0mmkdir\u001b[0m\u001b[0;34m(\u001b[0m\u001b[0;34m\"/content/Crop-Brain-MRI/meningioma_tumor\"\u001b[0m\u001b[0;34m)\u001b[0m\u001b[0;34m\u001b[0m\u001b[0;34m\u001b[0m\u001b[0m\n\u001b[1;32m      5\u001b[0m \u001b[0mos\u001b[0m\u001b[0;34m.\u001b[0m\u001b[0mmkdir\u001b[0m\u001b[0;34m(\u001b[0m\u001b[0;34m\"/content/Crop-Brain-MRI/no_tumor\"\u001b[0m\u001b[0;34m)\u001b[0m\u001b[0;34m\u001b[0m\u001b[0;34m\u001b[0m\u001b[0m\n",
            "\u001b[0;31mFileExistsError\u001b[0m: [Errno 17] File exists: '/content/Crop-Brain-MRI'"
          ]
        }
      ]
    },
    {
      "cell_type": "code",
      "metadata": {
        "id": "GY3ZoFksAOtL",
        "colab": {
          "base_uri": "https://localhost:8080/",
          "height": 231
        },
        "outputId": "e2fcfa49-2134-4df8-d076-4f81771329a3"
      },
      "source": [
        "# Create Directory for Testing Data\n",
        "os.mkdir(\"/content/Test-Data\")\n",
        "os.mkdir(\"/content/Test-Data/glioma_tumor\")\n",
        "os.mkdir(\"/content/Test-Data/meningioma_tumor\")\n",
        "os.mkdir(\"/content/Test-Data/no_tumor\")\n",
        "os.mkdir(\"/content/Test-Data/pituitary_tumor\")"
      ],
      "execution_count": 11,
      "outputs": [
        {
          "output_type": "error",
          "ename": "FileExistsError",
          "evalue": "ignored",
          "traceback": [
            "\u001b[0;31m---------------------------------------------------------------------------\u001b[0m",
            "\u001b[0;31mFileExistsError\u001b[0m                           Traceback (most recent call last)",
            "\u001b[0;32m<ipython-input-11-f2c9eecc8ee7>\u001b[0m in \u001b[0;36m<module>\u001b[0;34m()\u001b[0m\n\u001b[1;32m      1\u001b[0m \u001b[0;31m# Create Directory for Testing Data\u001b[0m\u001b[0;34m\u001b[0m\u001b[0;34m\u001b[0m\u001b[0;34m\u001b[0m\u001b[0m\n\u001b[0;32m----> 2\u001b[0;31m \u001b[0mos\u001b[0m\u001b[0;34m.\u001b[0m\u001b[0mmkdir\u001b[0m\u001b[0;34m(\u001b[0m\u001b[0;34m\"/content/Test-Data\"\u001b[0m\u001b[0;34m)\u001b[0m\u001b[0;34m\u001b[0m\u001b[0;34m\u001b[0m\u001b[0m\n\u001b[0m\u001b[1;32m      3\u001b[0m \u001b[0mos\u001b[0m\u001b[0;34m.\u001b[0m\u001b[0mmkdir\u001b[0m\u001b[0;34m(\u001b[0m\u001b[0;34m\"/content/Test-Data/glioma_tumor\"\u001b[0m\u001b[0;34m)\u001b[0m\u001b[0;34m\u001b[0m\u001b[0;34m\u001b[0m\u001b[0m\n\u001b[1;32m      4\u001b[0m \u001b[0mos\u001b[0m\u001b[0;34m.\u001b[0m\u001b[0mmkdir\u001b[0m\u001b[0;34m(\u001b[0m\u001b[0;34m\"/content/Test-Data/meningioma_tumor\"\u001b[0m\u001b[0;34m)\u001b[0m\u001b[0;34m\u001b[0m\u001b[0;34m\u001b[0m\u001b[0m\n\u001b[1;32m      5\u001b[0m \u001b[0mos\u001b[0m\u001b[0;34m.\u001b[0m\u001b[0mmkdir\u001b[0m\u001b[0;34m(\u001b[0m\u001b[0;34m\"/content/Test-Data/no_tumor\"\u001b[0m\u001b[0;34m)\u001b[0m\u001b[0;34m\u001b[0m\u001b[0;34m\u001b[0m\u001b[0m\n",
            "\u001b[0;31mFileExistsError\u001b[0m: [Errno 17] File exists: '/content/Test-Data'"
          ]
        }
      ]
    },
    {
      "cell_type": "markdown",
      "metadata": {
        "id": "CjL25jsG-cfr"
      },
      "source": [
        "## Data Visualization"
      ]
    },
    {
      "cell_type": "code",
      "metadata": {
        "id": "YTF3Y9qH-xuw"
      },
      "source": [
        "train_dir=\"/content/Coursera-Content/Brain-MRI/Training/\"\n",
        "test_dir=\"/content/Coursera-Content/Brain-MRI/Testing/\"\n",
        "classes = os.listdir(\"/content/Coursera-Content/Brain-MRI/Training\")\n",
        "files_path_dict={}\n",
        "\n",
        "for c in classes:\n",
        "  files_path_dict[c] = list(map(lambda))"
      ],
      "execution_count": 13,
      "outputs": []
    },
    {
      "cell_type": "markdown",
      "metadata": {
        "id": "h8lT8JvM-yvZ"
      },
      "source": [
        "## Create a Function to Crop Images"
      ]
    },
    {
      "cell_type": "code",
      "metadata": {
        "trusted": true,
        "id": "PC9Y44H2utX9"
      },
      "source": [
        ""
      ],
      "execution_count": null,
      "outputs": []
    },
    {
      "cell_type": "markdown",
      "metadata": {
        "id": "i80C1X39_QiK"
      },
      "source": [
        "## Saving The Cropped Images "
      ]
    },
    {
      "cell_type": "code",
      "metadata": {
        "trusted": true,
        "id": "-sTiAazGutX-"
      },
      "source": [
        "# Crop the Training Images and Save it to the Directory we previously cretaed"
      ],
      "execution_count": null,
      "outputs": []
    },
    {
      "cell_type": "code",
      "metadata": {
        "trusted": true,
        "id": "5BDz8hYHutX_"
      },
      "source": [
        "# Crop the Testing Images and Save it to the Directory we previously cretaed"
      ],
      "execution_count": null,
      "outputs": []
    },
    {
      "cell_type": "markdown",
      "metadata": {
        "id": "gO6qUtpMutYD"
      },
      "source": [
        "## Perform Data Augmentation and Prepare the Train, Validation and Test Dataset"
      ]
    },
    {
      "cell_type": "code",
      "metadata": {
        "trusted": true,
        "id": "nYupR0plutYD"
      },
      "source": [
        "# Use Image Data Generator to perform this task."
      ],
      "execution_count": null,
      "outputs": []
    },
    {
      "cell_type": "code",
      "metadata": {
        "id": "XWNduohCB7_X"
      },
      "source": [
        "# View the class dictionary"
      ],
      "execution_count": null,
      "outputs": []
    },
    {
      "cell_type": "code",
      "metadata": {
        "id": "3v7rXZbjCDAs"
      },
      "source": [
        "# View the augmented data."
      ],
      "execution_count": null,
      "outputs": []
    },
    {
      "cell_type": "markdown",
      "metadata": {
        "id": "8qY4YSGuutYE"
      },
      "source": [
        "## Build and Compile the Model "
      ]
    },
    {
      "cell_type": "code",
      "metadata": {
        "id": "nZWBuyccCqFr"
      },
      "source": [
        "# Build the Model"
      ],
      "execution_count": null,
      "outputs": []
    },
    {
      "cell_type": "markdown",
      "metadata": {
        "id": "DFcjorVNutYF"
      },
      "source": [
        "## Model Training and Model Evaluation"
      ]
    },
    {
      "cell_type": "code",
      "metadata": {
        "trusted": true,
        "id": "BlpDiDd3utYF"
      },
      "source": [
        "# Train the model"
      ],
      "execution_count": null,
      "outputs": []
    },
    {
      "cell_type": "code",
      "metadata": {
        "trusted": true,
        "id": "LbNZtVC7utYG"
      },
      "source": [
        "# Plot the training curves"
      ],
      "execution_count": null,
      "outputs": []
    },
    {
      "cell_type": "code",
      "metadata": {
        "trusted": true,
        "id": "F55_FNzZutYF"
      },
      "source": [
        "# Evaluate the model on Test Set"
      ],
      "execution_count": null,
      "outputs": []
    },
    {
      "cell_type": "markdown",
      "metadata": {
        "id": "qx5tUD-JutYH"
      },
      "source": [
        "## Obtaining Predictions on Test Images"
      ]
    },
    {
      "cell_type": "code",
      "metadata": {
        "id": "M80yL7QlDgMX"
      },
      "source": [
        "# Obtain Predictions on Test Images"
      ],
      "execution_count": null,
      "outputs": []
    }
  ]
}